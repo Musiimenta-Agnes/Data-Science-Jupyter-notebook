{
 "cells": [
  {
   "cell_type": "markdown",
   "id": "e75826e0-cdd0-4d5a-9c7b-00f0577ac58c",
   "metadata": {},
   "source": [
    "# HYPOTHESIS"
   ]
  },
  {
   "cell_type": "markdown",
   "id": "b927548e-a63d-4b3c-ada7-19a86175be02",
   "metadata": {},
   "source": [
    "---- We have the following\n",
    "1. Null hyponthesIs \n",
    "2. Alternative hyponthesIs"
   ]
  },
  {
   "cell_type": "markdown",
   "id": "023f06ed-ab32-45ac-9bc7-53562fa70f05",
   "metadata": {},
   "source": [
    "# Steps to follow on hypothesis testing\n",
    "1. Define the null and the alternative.\n",
    "2. Construct T statistics.\n",
    "3. Compute P values.\n",
    "4. Make decissions on the null and alternative and it is defined as either \"Reject\" or \"Fail to reject\".\n",
    "5. Check whether you have made any errors , type 1 error or type 2 error."
   ]
  },
  {
   "cell_type": "markdown",
   "id": "9997b3ed-cdbd-4b1d-a133-dcf1d1493490",
   "metadata": {},
   "source": [
    "# NOTE \n",
    "1. When the evidence is small, we say \"Fail to reject the null\" and when the evidence is big, we \"reject the null\".\n",
    "2. When you reject the null, it means you have ideally accepted or accepted the Alternative.\n"
   ]
  },
  {
   "cell_type": "code",
   "execution_count": null,
   "id": "3136f9a3-9efa-4b7b-b5fa-671df259700a",
   "metadata": {},
   "outputs": [],
   "source": []
  },
  {
   "cell_type": "code",
   "execution_count": null,
   "id": "bc4dcb95-6960-46af-b89b-15a5be511f44",
   "metadata": {},
   "outputs": [],
   "source": []
  },
  {
   "cell_type": "markdown",
   "id": "3134d3ff-a78b-4d19-b434-08a66416f8ee",
   "metadata": {},
   "source": [
    "# Null Hypothesis"
   ]
  },
  {
   "cell_type": "markdown",
   "id": "21617bbe-0a71-419f-91c7-b7fcb51ce376",
   "metadata": {},
   "source": [
    "This is where nothing happens and nothig changes"
   ]
  },
  {
   "cell_type": "markdown",
   "id": "64ef3dfc-67cd-4f52-88b9-2435aa9a14d7",
   "metadata": {},
   "source": [
    "# Alternative Hypothesis"
   ]
  },
  {
   "cell_type": "markdown",
   "id": "8ef90d04-15fb-473a-bb31-6e9d273488f5",
   "metadata": {},
   "source": [
    "1. This is the decission of the viewer.\n",
    "2. Something happens and something changes.\n",
    "3. Things donot happen by chance."
   ]
  },
  {
   "cell_type": "markdown",
   "id": "9be5aefe-c719-4249-985a-64b5733865b7",
   "metadata": {},
   "source": [
    " # Type Errors\n",
    "\n",
    "1. Type 1 error:\n",
    "\n",
    "   \n",
    "----When we reject a true  null (false positive.)\n",
    "\n",
    " 2.  Type 2 error:\n",
    "  \n",
    "----When we  fail to reject a false null.  (false negative)"
   ]
  },
  {
   "cell_type": "markdown",
   "id": "14931084-a327-4943-aa7d-1e67eda0ffae",
   "metadata": {},
   "source": [
    "# Conclussion"
   ]
  },
  {
   "cell_type": "markdown",
   "id": "01104607-1ff5-4ad0-85c8-58963cdfa931",
   "metadata": {},
   "source": [
    "You can conclude by saying we dont have enough evidence to conclude that there is zero impact"
   ]
  },
  {
   "cell_type": "markdown",
   "id": "a7965fa2-f720-4bbe-95c8-90ca85e5dbc2",
   "metadata": {},
   "source": [
    "# LENEAR REGRESSION\n",
    "* This involves supervised learning and unsupervised learning\n",
    "* Under supervised learning we have labelled data.\n",
    "* Under unsupervised learning we have unlebelled data."
   ]
  },
  {
   "cell_type": "markdown",
   "id": "2f5e8c1b-4d0f-49db-84af-1e9005cfb260",
   "metadata": {},
   "source": [
    "# STEPS.\n",
    "* Collect data.\n",
    "* Reprocess the data.\n",
    "* Explore the data (EDA).\n",
    "* Train the data.\n",
    "* Test/ Build the model.\n",
    "\n",
    "\n"
   ]
  },
  {
   "cell_type": "code",
   "execution_count": null,
   "id": "6a55b6dc-628f-4048-8c3b-9fc41d9e4232",
   "metadata": {},
   "outputs": [],
   "source": []
  },
  {
   "cell_type": "code",
   "execution_count": null,
   "id": "013febc5-5a21-4664-921e-3479725fb066",
   "metadata": {},
   "outputs": [],
   "source": []
  },
  {
   "cell_type": "code",
   "execution_count": null,
   "id": "1cfa26e2-4a74-4840-89ee-13c8c6ac4375",
   "metadata": {},
   "outputs": [],
   "source": []
  }
 ],
 "metadata": {
  "kernelspec": {
   "display_name": "Python 3 (ipykernel)",
   "language": "python",
   "name": "python3"
  },
  "language_info": {
   "codemirror_mode": {
    "name": "ipython",
    "version": 3
   },
   "file_extension": ".py",
   "mimetype": "text/x-python",
   "name": "python",
   "nbconvert_exporter": "python",
   "pygments_lexer": "ipython3",
   "version": "3.12.5"
  }
 },
 "nbformat": 4,
 "nbformat_minor": 5
}
