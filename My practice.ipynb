{
 "cells": [
  {
   "cell_type": "markdown",
   "id": "9407ddc7-3463-4fc7-af35-4caceda36ef0",
   "metadata": {},
   "source": [
    "Create a list of elements (1,2,3,4,5)"
   ]
  },
  {
   "cell_type": "markdown",
   "id": "a48335e6-368c-4b18-8897-d50aa038cb6a",
   "metadata": {},
   "source": []
  },
  {
   "cell_type": "code",
   "execution_count": 1,
   "id": "f9e00fcc-e483-44b5-859b-cfc0dc819195",
   "metadata": {},
   "outputs": [],
   "source": [
    " A = [1,2]"
   ]
  },
  {
   "cell_type": "code",
   "execution_count": 2,
   "id": "06296e52-55e9-40d6-bcd7-e19c6ad423b5",
   "metadata": {},
   "outputs": [],
   "source": [
    "A = [1,2,3,4,5]"
   ]
  },
  {
   "cell_type": "markdown",
   "id": "fe4972cc-495a-451b-a2f8-d35350d3f7eb",
   "metadata": {},
   "source": [
    "Create a tuple  (A tuple cannot be changed)"
   ]
  },
  {
   "cell_type": "code",
   "execution_count": 3,
   "id": "de8e8da1-9015-4963-8ab7-8d411894138c",
   "metadata": {},
   "outputs": [],
   "source": [
    "Integers = (1,2,3,4,5,)"
   ]
  },
  {
   "cell_type": "markdown",
   "id": "5cb2bf54-4369-4998-99f3-e2ad61c4c41e",
   "metadata": {},
   "source": [
    "Create a dictionary with elements as your first name and sur name"
   ]
  },
  {
   "cell_type": "code",
   "execution_count": 4,
   "id": "719207b2-46b2-4916-86a0-0e8827a7ebb7",
   "metadata": {},
   "outputs": [],
   "source": [
    "Student = {\"Musiimenta: Agnes\"}"
   ]
  },
  {
   "cell_type": "code",
   "execution_count": 5,
   "id": "ceefbd72-8aa5-4a17-8e15-a975f179078d",
   "metadata": {},
   "outputs": [
    {
     "name": "stdout",
     "output_type": "stream",
     "text": [
      "{'Musiimenta: Agnes'}\n"
     ]
    }
   ],
   "source": [
    "print(Student)"
   ]
  },
  {
   "cell_type": "markdown",
   "id": "94bfe3a8-2a84-4fc9-87ce-f6c4c75523a4",
   "metadata": {},
   "source": [
    "Create Two lists and name the CJ and KFC"
   ]
  },
  {
   "cell_type": "code",
   "execution_count": 6,
   "id": "220c4730-5011-485a-93ae-dfb24f3ff822",
   "metadata": {},
   "outputs": [],
   "source": [
    "name_list = [\"Chicken roll\", \"Cheese\", \"Egg roll\", \"Chew cumber\", \"bung bung\"]"
   ]
  },
  {
   "cell_type": "code",
   "execution_count": 7,
   "id": "236e11d4-1eae-47bb-816a-b85f09defd48",
   "metadata": {},
   "outputs": [
    {
     "name": "stdout",
     "output_type": "stream",
     "text": [
      "['Chicken roll', 'Cheese', 'Egg roll', 'Chew cumber', 'bung bung']\n"
     ]
    }
   ],
   "source": [
    "print(name_list)"
   ]
  },
  {
   "cell_type": "code",
   "execution_count": null,
   "id": "108b0b43-aba6-44e5-91ef-f747123b6cc3",
   "metadata": {},
   "outputs": [],
   "source": []
  },
  {
   "cell_type": "code",
   "execution_count": 8,
   "id": "4f8861cb-21b5-4c74-927c-06397263ffbe",
   "metadata": {},
   "outputs": [],
   "source": [
    "kfc_list = [89.90, 78.89, 56.98, 78.90, 78.9]"
   ]
  },
  {
   "cell_type": "code",
   "execution_count": 9,
   "id": "d318fb65-13ec-42fa-968c-d94581336514",
   "metadata": {},
   "outputs": [],
   "source": [
    "cj_list = [78.89, 78.97, 89.90, 78.95, 89.08 ]"
   ]
  },
  {
   "cell_type": "code",
   "execution_count": 10,
   "id": "afe85654-1c7b-4956-acf1-cc8fdb199ad0",
   "metadata": {},
   "outputs": [],
   "source": [
    "total_price = kfc_list + cj_list"
   ]
  },
  {
   "cell_type": "code",
   "execution_count": null,
   "id": "362e509b-2f0c-428f-92b0-5682d7103c6f",
   "metadata": {},
   "outputs": [],
   "source": []
  },
  {
   "cell_type": "markdown",
   "id": "7e19f90f-a248-46ae-9cd6-6b2c6a6e8d4e",
   "metadata": {},
   "source": [
    "# NUMPY"
   ]
  },
  {
   "cell_type": "code",
   "execution_count": 11,
   "id": "a1b55ca7-8073-4197-a5af-590c81bbf983",
   "metadata": {},
   "outputs": [],
   "source": [
    "import numpy  as np"
   ]
  },
  {
   "cell_type": "code",
   "execution_count": 14,
   "id": "fc720578-285a-4f87-b657-75d4da4796ee",
   "metadata": {},
   "outputs": [],
   "source": [
    "import pandas as pd"
   ]
  },
  {
   "cell_type": "code",
   "execution_count": null,
   "id": "5ccf2ad6-1eb3-4729-bd08-9f0679526c71",
   "metadata": {},
   "outputs": [],
   "source": []
  },
  {
   "cell_type": "markdown",
   "id": "b65702fb-782b-4ec2-aa5c-25f3c056e821",
   "metadata": {},
   "source": [
    "# QN.\n",
    "1. Model the reationship between the hours spent in training and the job performing rates.\n",
    "2. Interprete the slope and interact of the regression line.\n",
    "3. Predict the job perfomance rating of an employee who spends 5.5 hours in training. "
   ]
  },
  {
   "cell_type": "code",
   "execution_count": 31,
   "id": "1c6610a5-027c-47dc-b53b-5e8ab0fd0670",
   "metadata": {},
   "outputs": [
    {
     "data": {
      "text/html": [
       "<div>\n",
       "<style scoped>\n",
       "    .dataframe tbody tr th:only-of-type {\n",
       "        vertical-align: middle;\n",
       "    }\n",
       "\n",
       "    .dataframe tbody tr th {\n",
       "        vertical-align: top;\n",
       "    }\n",
       "\n",
       "    .dataframe thead th {\n",
       "        text-align: right;\n",
       "    }\n",
       "</style>\n",
       "<table border=\"1\" class=\"dataframe\">\n",
       "  <thead>\n",
       "    <tr style=\"text-align: right;\">\n",
       "      <th></th>\n",
       "      <th>Employee</th>\n",
       "      <th>Hours</th>\n",
       "      <th>Perfomance</th>\n",
       "    </tr>\n",
       "  </thead>\n",
       "  <tbody>\n",
       "    <tr>\n",
       "      <th>0</th>\n",
       "      <td>1</td>\n",
       "      <td>5</td>\n",
       "      <td>80</td>\n",
       "    </tr>\n",
       "    <tr>\n",
       "      <th>1</th>\n",
       "      <td>2</td>\n",
       "      <td>3</td>\n",
       "      <td>70</td>\n",
       "    </tr>\n",
       "    <tr>\n",
       "      <th>2</th>\n",
       "      <td>3</td>\n",
       "      <td>8</td>\n",
       "      <td>90</td>\n",
       "    </tr>\n",
       "    <tr>\n",
       "      <th>3</th>\n",
       "      <td>4</td>\n",
       "      <td>2</td>\n",
       "      <td>60</td>\n",
       "    </tr>\n",
       "    <tr>\n",
       "      <th>4</th>\n",
       "      <td>5</td>\n",
       "      <td>6</td>\n",
       "      <td>85</td>\n",
       "    </tr>\n",
       "    <tr>\n",
       "      <th>5</th>\n",
       "      <td>6</td>\n",
       "      <td>4</td>\n",
       "      <td>75</td>\n",
       "    </tr>\n",
       "    <tr>\n",
       "      <th>6</th>\n",
       "      <td>7</td>\n",
       "      <td>7</td>\n",
       "      <td>88</td>\n",
       "    </tr>\n",
       "    <tr>\n",
       "      <th>7</th>\n",
       "      <td>8</td>\n",
       "      <td>1</td>\n",
       "      <td>55</td>\n",
       "    </tr>\n",
       "    <tr>\n",
       "      <th>8</th>\n",
       "      <td>9</td>\n",
       "      <td>9</td>\n",
       "      <td>95</td>\n",
       "    </tr>\n",
       "    <tr>\n",
       "      <th>9</th>\n",
       "      <td>10</td>\n",
       "      <td>6</td>\n",
       "      <td>82</td>\n",
       "    </tr>\n",
       "  </tbody>\n",
       "</table>\n",
       "</div>"
      ],
      "text/plain": [
       "   Employee   Hours  Perfomance\n",
       "0          1      5          80\n",
       "1          2      3          70\n",
       "2          3      8          90\n",
       "3          4      2          60\n",
       "4          5      6          85\n",
       "5          6      4          75\n",
       "6          7      7          88\n",
       "7          8      1          55\n",
       "8          9      9          95\n",
       "9         10      6          82"
      ]
     },
     "execution_count": 31,
     "metadata": {},
     "output_type": "execute_result"
    }
   ],
   "source": [
    "data = pd.read_csv('Linear Regression Excel.csv')\n",
    "data"
   ]
  },
  {
   "cell_type": "code",
   "execution_count": 32,
   "id": "59f6329c-79b7-4a9a-a169-8282b6548712",
   "metadata": {},
   "outputs": [
    {
     "data": {
      "text/html": [
       "<div>\n",
       "<style scoped>\n",
       "    .dataframe tbody tr th:only-of-type {\n",
       "        vertical-align: middle;\n",
       "    }\n",
       "\n",
       "    .dataframe tbody tr th {\n",
       "        vertical-align: top;\n",
       "    }\n",
       "\n",
       "    .dataframe thead th {\n",
       "        text-align: right;\n",
       "    }\n",
       "</style>\n",
       "<table border=\"1\" class=\"dataframe\">\n",
       "  <thead>\n",
       "    <tr style=\"text-align: right;\">\n",
       "      <th></th>\n",
       "      <th>Employee</th>\n",
       "      <th>Hours</th>\n",
       "      <th>Perfomance</th>\n",
       "    </tr>\n",
       "  </thead>\n",
       "  <tbody>\n",
       "    <tr>\n",
       "      <th>0</th>\n",
       "      <td>1</td>\n",
       "      <td>5</td>\n",
       "      <td>80</td>\n",
       "    </tr>\n",
       "    <tr>\n",
       "      <th>1</th>\n",
       "      <td>2</td>\n",
       "      <td>3</td>\n",
       "      <td>70</td>\n",
       "    </tr>\n",
       "    <tr>\n",
       "      <th>2</th>\n",
       "      <td>3</td>\n",
       "      <td>8</td>\n",
       "      <td>90</td>\n",
       "    </tr>\n",
       "    <tr>\n",
       "      <th>3</th>\n",
       "      <td>4</td>\n",
       "      <td>2</td>\n",
       "      <td>60</td>\n",
       "    </tr>\n",
       "    <tr>\n",
       "      <th>4</th>\n",
       "      <td>5</td>\n",
       "      <td>6</td>\n",
       "      <td>85</td>\n",
       "    </tr>\n",
       "    <tr>\n",
       "      <th>5</th>\n",
       "      <td>6</td>\n",
       "      <td>4</td>\n",
       "      <td>75</td>\n",
       "    </tr>\n",
       "    <tr>\n",
       "      <th>6</th>\n",
       "      <td>7</td>\n",
       "      <td>7</td>\n",
       "      <td>88</td>\n",
       "    </tr>\n",
       "    <tr>\n",
       "      <th>7</th>\n",
       "      <td>8</td>\n",
       "      <td>1</td>\n",
       "      <td>55</td>\n",
       "    </tr>\n",
       "    <tr>\n",
       "      <th>8</th>\n",
       "      <td>9</td>\n",
       "      <td>9</td>\n",
       "      <td>95</td>\n",
       "    </tr>\n",
       "    <tr>\n",
       "      <th>9</th>\n",
       "      <td>10</td>\n",
       "      <td>6</td>\n",
       "      <td>82</td>\n",
       "    </tr>\n",
       "  </tbody>\n",
       "</table>\n",
       "</div>"
      ],
      "text/plain": [
       "   Employee   Hours  Perfomance\n",
       "0          1      5          80\n",
       "1          2      3          70\n",
       "2          3      8          90\n",
       "3          4      2          60\n",
       "4          5      6          85\n",
       "5          6      4          75\n",
       "6          7      7          88\n",
       "7          8      1          55\n",
       "8          9      9          95\n",
       "9         10      6          82"
      ]
     },
     "execution_count": 32,
     "metadata": {},
     "output_type": "execute_result"
    }
   ],
   "source": [
    "data_frame = pd.DataFrame(data)\n",
    "data_frame"
   ]
  },
  {
   "cell_type": "code",
   "execution_count": null,
   "id": "dda8362b-6800-4a85-87ec-6019a792f9e9",
   "metadata": {},
   "outputs": [],
   "source": []
  },
  {
   "cell_type": "code",
   "execution_count": 33,
   "id": "8abd0703-9e8b-407d-adc1-ff8b329f1e42",
   "metadata": {},
   "outputs": [],
   "source": [
    "import matplotlib.pyplot as plt"
   ]
  },
  {
   "cell_type": "code",
   "execution_count": 34,
   "id": "5fb2b460-156a-437c-b061-f31532902a63",
   "metadata": {},
   "outputs": [
    {
     "data": {
      "image/png": "[encoded data removed]",
      "text/plain": [
       "<Figure size 640x480 with 1 Axes>"
      ]
     },
     "metadata": {},
     "output_type": "display_data"
    }
   ],
   "source": [
    "data.plot(kind = 'scatter', x = 'Hours', y = 'Perfomance', title = 'The percentage of marks of students depending on the ours attende')\n",
    "plt.xlabel('Hours')\n",
    "plt.ylabel('Perfomance')\n",
    "plt.show()"
   ]
  },
  {
   "cell_type": "code",
   "execution_count": null,
   "id": "339acdc0-5153-439b-808b-a4c41086e4b2",
   "metadata": {},
   "outputs": [],
   "source": []
  },
  {
   "cell_type": "code",
   "execution_count": null,
   "id": "43e0242f-4138-4fc9-823c-73b99cc8a7fd",
   "metadata": {},
   "outputs": [],
   "source": []
  },
  {
   "cell_type": "code",
   "execution_count": null,
   "id": "36cb2780-9478-4906-b6b4-01255970e4eb",
   "metadata": {},
   "outputs": [],
   "source": []
  }
 ],
 "metadata": {
  "kernelspec": {
   "display_name": "Python 3 (ipykernel)",
   "language": "python",
   "name": "python3"
  },
  "language_info": {
   "codemirror_mode": {
    "name": "ipython",
    "version": 3
   },
   "file_extension": ".py",
   "mimetype": "text/x-python",
   "name": "python",
   "nbconvert_exporter": "python",
   "pygments_lexer": "ipython3",
   "version": "3.12.5"
  }
 },
 "nbformat": 4,
 "nbformat_minor": 5
}
