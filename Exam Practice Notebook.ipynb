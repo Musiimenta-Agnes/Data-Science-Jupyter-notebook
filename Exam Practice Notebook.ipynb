{
 "cells": [
  {
   "cell_type": "markdown",
   "id": "cee20a9d",
   "metadata": {},
   "source": [
    "# NUMPY ARRAYS "
   ]
  },
  {
   "cell_type": "code",
   "execution_count": 2,
   "id": "35daeaa4",
   "metadata": {},
   "outputs": [],
   "source": [
    "import numpy as np"
   ]
  },
  {
   "cell_type": "code",
   "execution_count": 3,
   "id": "58dde60f",
   "metadata": {},
   "outputs": [],
   "source": [
    "import matplotlib.pyplot as plt"
   ]
  },
  {
   "cell_type": "code",
   "execution_count": 4,
   "id": "7344655b",
   "metadata": {},
   "outputs": [],
   "source": [
    "from numpy import random"
   ]
  },
  {
   "cell_type": "markdown",
   "id": "9cc3a084",
   "metadata": {},
   "source": [
    "# 3. Numpy Array Manipulation (Hint: Use knowledge learnt in Mathematical Computing).\n",
    "(a) Multiply a 5x3 matrix by a 3x2 matrix (real matrix product) (Hint: create a 5x3 and 3x2 matrices\n",
    "and peform matrix multiplication).\n",
    "\n",
    "\n",
    "(b) Create a 3x3 identity matrix\n",
    "\n",
    "\n",
    "(c) Create a vector with values ranging from 10 to 49).\n",
    "\n",
    "\n",
    "(d) Create a null vector of size 10.\n",
    "\n",
    "\n",
    "(e) Create a 3x3x3 array with random values\n",
    "\n",
    "\n",
    "(f) Create a 5x5 matrix with values 1,2,3,4 just below the diagonal\n",
    "\n",
    "\n",
    "(g) Normalize a 5x5 random matrix\n",
    "\n",
    "\n",
    "(h) How to get the dates of yesterday, today and tomorrow?\n",
    "\n",
    "\n",
    "(i) Find indices of non-zero elements from [1,2,0,0,4,0]. In all the above questions explain your approach"
   ]
  },
  {
   "cell_type": "markdown",
   "id": "fd6e2bcd",
   "metadata": {},
   "source": [
    "# Solutions"
   ]
  },
  {
   "cell_type": "markdown",
   "id": "d0462ec7",
   "metadata": {},
   "source": [
    "# (a) Multiply a 5x3 matrix by a 3x2 matrix (real matrix product) (Hint: create a 5x3 and 3x2 matrices and peform matrix multiplication)."
   ]
  },
  {
   "cell_type": "code",
   "execution_count": 7,
   "id": "dddcfa52",
   "metadata": {},
   "outputs": [
    {
     "name": "stdout",
     "output_type": "stream",
     "text": [
      "[[[1 2 3]\n",
      "  [3 4 5]\n",
      "  [2 3 4]\n",
      "  [3 2 1]\n",
      "  [2 3 3]]]\n"
     ]
    }
   ],
   "source": [
    "matrix1 = np.array([[[1,2,3],[3,4,5],[2,3,4],[3,2,1],[2,3,3,]]])\n",
    "print(matrix1)\n",
    "\n"
   ]
  },
  {
   "cell_type": "code",
   "execution_count": 10,
   "id": "674c586c",
   "metadata": {},
   "outputs": [
    {
     "name": "stdout",
     "output_type": "stream",
     "text": [
      "[[[1 2]\n",
      "  [3 4]\n",
      "  [3 5]]]\n"
     ]
    }
   ],
   "source": [
    "matrix2 = np.array([[[1,2],[3,4],[3,5]]])\n",
    "print(matrix2)"
   ]
  },
  {
   "cell_type": "code",
   "execution_count": 11,
   "id": "cf759e75",
   "metadata": {},
   "outputs": [
    {
     "data": {
      "text/plain": [
       "array([[[[16, 25]],\n",
       "\n",
       "        [[30, 47]],\n",
       "\n",
       "        [[23, 36]],\n",
       "\n",
       "        [[12, 19]],\n",
       "\n",
       "        [[20, 31]]]])"
      ]
     },
     "execution_count": 11,
     "metadata": {},
     "output_type": "execute_result"
    }
   ],
   "source": [
    "product = np.dot(matrix1,matrix2)\n",
    "product"
   ]
  },
  {
   "cell_type": "code",
   "execution_count": null,
   "id": "e047d7ae",
   "metadata": {},
   "outputs": [],
   "source": []
  },
  {
   "cell_type": "code",
   "execution_count": null,
   "id": "701326c1",
   "metadata": {},
   "outputs": [],
   "source": []
  },
  {
   "cell_type": "code",
   "execution_count": null,
   "id": "63b354c6",
   "metadata": {},
   "outputs": [],
   "source": []
  },
  {
   "cell_type": "markdown",
   "id": "b4615c35",
   "metadata": {},
   "source": [
    "# (b) Create a 3x3 identity matrix"
   ]
  },
  {
   "cell_type": "code",
   "execution_count": 24,
   "id": "2b1eb827",
   "metadata": {},
   "outputs": [
    {
     "name": "stdout",
     "output_type": "stream",
     "text": [
      "[[1 0 0]\n",
      " [0 1 0]\n",
      " [0 0 1]]\n"
     ]
    }
   ],
   "source": [
    "identity_matrix = np.array([[1,0,0],[0,1,0],[0,0,1]])\n",
    "print(identity_matrix) # This is a matrix whose all diagonal elements are equal to 1.It is also known as a unit matrix"
   ]
  },
  {
   "cell_type": "code",
   "execution_count": null,
   "id": "6faa1127",
   "metadata": {},
   "outputs": [],
   "source": []
  },
  {
   "cell_type": "markdown",
   "id": "bcdf844a",
   "metadata": {},
   "source": [
    "# (c) Create a vector with values ranging from 10 to 49)."
   ]
  },
  {
   "cell_type": "code",
   "execution_count": 17,
   "id": "887482b3",
   "metadata": {},
   "outputs": [
    {
     "data": {
      "text/plain": [
       "array([10, 11, 12, 13, 14, 15])"
      ]
     },
     "execution_count": 17,
     "metadata": {},
     "output_type": "execute_result"
    }
   ],
   "source": [
    "vector = np.array([10,11,12,13,14,15])\n",
    "vector"
   ]
  },
  {
   "cell_type": "markdown",
   "id": "eeb50554",
   "metadata": {},
   "source": [
    "# (d) Create a null vector of size 10."
   ]
  },
  {
   "cell_type": "code",
   "execution_count": 23,
   "id": "9c0ad9ff",
   "metadata": {},
   "outputs": [
    {
     "data": {
      "text/plain": [
       "array([0, 0, 0, 0, 0, 0, 0, 0, 0, 0])"
      ]
     },
     "execution_count": 23,
     "metadata": {},
     "output_type": "execute_result"
    }
   ],
   "source": [
    "vector2 = np.array([0,0,0,0,0,0,0,0,0,0])\n",
    "vector2 # This is a matrix whose all elements are zeros"
   ]
  },
  {
   "cell_type": "markdown",
   "id": "9d34cda1",
   "metadata": {},
   "source": [
    "# (e) Create a 3x3x3 array with random values"
   ]
  },
  {
   "cell_type": "code",
   "execution_count": 22,
   "id": "3e98d6bc",
   "metadata": {},
   "outputs": [
    {
     "data": {
      "text/plain": [
       "array([[[3.70835116e-01, 4.94599196e-01, 5.83845168e-01],\n",
       "        [1.16472442e-02, 9.17636042e-01, 7.82201759e-01],\n",
       "        [7.45426429e-01, 5.27768194e-01, 5.86701972e-01]],\n",
       "\n",
       "       [[6.06183512e-04, 5.23151713e-01, 3.39266919e-01],\n",
       "        [8.07695493e-01, 2.75452128e-01, 6.70428591e-01],\n",
       "        [8.31108438e-01, 2.41676868e-01, 8.98815625e-01]],\n",
       "\n",
       "       [[9.93969885e-01, 5.27093722e-02, 2.63803313e-01],\n",
       "        [5.40320674e-01, 2.31436297e-01, 1.25363037e-01],\n",
       "        [7.12957036e-01, 9.82292333e-01, 2.65959368e-01]]])"
      ]
     },
     "execution_count": 22,
     "metadata": {},
     "output_type": "execute_result"
    }
   ],
   "source": [
    "array = np.random.rand(3,3,3)\n",
    "array # This is a 3x3 matrix 3 times"
   ]
  },
  {
   "cell_type": "markdown",
   "id": "7c71b954",
   "metadata": {},
   "source": [
    "# (f) Create a 5x5 matrix with values 1,2,3,4 just below the diagonal"
   ]
  },
  {
   "cell_type": "code",
   "execution_count": 21,
   "id": "746245e0",
   "metadata": {},
   "outputs": [
    {
     "data": {
      "text/plain": [
       "array([[[0, 0, 0, 0, 0],\n",
       "        [1, 0, 0, 0, 0],\n",
       "        [0, 2, 0, 0, 0],\n",
       "        [0, 0, 3, 0, 0],\n",
       "        [0, 0, 0, 4, 0]]])"
      ]
     },
     "execution_count": 21,
     "metadata": {},
     "output_type": "execute_result"
    }
   ],
   "source": [
    "matrix = np.array([[[0,0,0,0,0],[1,0,0,0,0],[0,2,0,0,0],[0,0,3,0,0],[0,0,0,4,0]]])\n",
    "matrix # This means the matrix whos elements below the diagonal are 1,2,3,4. and all othe elements are zeros"
   ]
  },
  {
   "cell_type": "markdown",
   "id": "a1a4314a",
   "metadata": {},
   "source": [
    "# (g) Normalize a 5x5 random matrix"
   ]
  },
  {
   "cell_type": "code",
   "execution_count": 28,
   "id": "ddd30261",
   "metadata": {},
   "outputs": [
    {
     "data": {
      "text/plain": [
       "array([[0.88828187, 0.59877649, 0.89136989, 0.67947435, 0.63313449],\n",
       "       [0.82215778, 0.30448988, 0.895492  , 0.50378233, 0.44745519],\n",
       "       [0.23234028, 0.08921615, 0.61541396, 0.86153791, 0.57993227],\n",
       "       [0.19526687, 0.99865458, 0.55897109, 0.55074356, 0.71566198],\n",
       "       [0.23163501, 0.13688729, 0.0056539 , 0.60344724, 0.95416408]])"
      ]
     },
     "execution_count": 28,
     "metadata": {},
     "output_type": "execute_result"
    }
   ],
   "source": [
    "random_matrix = np.random.rand(5,5)\n",
    "random_matrix # First craete a random 5x5 matrix"
   ]
  },
  {
   "cell_type": "code",
   "execution_count": 29,
   "id": "cbc4458f",
   "metadata": {},
   "outputs": [
    {
     "data": {
      "text/plain": [
       "array([[0.22207047, 0.14969412, 0.22284247, 0.16986859, 0.15828362],\n",
       "       [0.20553945, 0.07612247, 0.223873  , 0.12594558, 0.1118638 ],\n",
       "       [0.05808507, 0.02230404, 0.15385349, 0.21538448, 0.14498307],\n",
       "       [0.04881672, 0.24966364, 0.13974277, 0.13768589, 0.17891549],\n",
       "       [0.05790875, 0.03422182, 0.00141347, 0.15086181, 0.23854102]])"
      ]
     },
     "execution_count": 29,
     "metadata": {},
     "output_type": "execute_result"
    }
   ],
   "source": [
    "normalised_matrix = (random_matrix/matrix.max())\n",
    "normalised_matrix # Then to normalis means dividing the original matrix with the maximum values of that same matrix"
   ]
  },
  {
   "cell_type": "code",
   "execution_count": null,
   "id": "0ac1ac86",
   "metadata": {},
   "outputs": [],
   "source": []
  },
  {
   "cell_type": "markdown",
   "id": "18a72971",
   "metadata": {},
   "source": [
    "# (h) How to get the dates of yesterday, today and tomorrow?"
   ]
  },
  {
   "cell_type": "code",
   "execution_count": null,
   "id": "9acb2bec",
   "metadata": {},
   "outputs": [],
   "source": []
  },
  {
   "cell_type": "markdown",
   "id": "e0fd3c67",
   "metadata": {},
   "source": [
    "# (i) Find indices of non-zero elements from [1,2,0,0,4,0]. In all the above questions explain your approach"
   ]
  },
  {
   "cell_type": "code",
   "execution_count": null,
   "id": "26f3ab1f",
   "metadata": {},
   "outputs": [],
   "source": []
  }
 ],
 "metadata": {
  "kernelspec": {
   "display_name": "Python 3 (ipykernel)",
   "language": "python",
   "name": "python3"
  },
  "language_info": {
   "codemirror_mode": {
    "name": "ipython",
    "version": 3
   },
   "file_extension": ".py",
   "mimetype": "text/x-python",
   "name": "python",
   "nbconvert_exporter": "python",
   "pygments_lexer": "ipython3",
   "version": "3.11.4"
  }
 },
 "nbformat": 4,
 "nbformat_minor": 5
}
